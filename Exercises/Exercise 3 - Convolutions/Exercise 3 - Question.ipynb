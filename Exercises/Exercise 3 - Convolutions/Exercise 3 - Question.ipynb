{
 "cells": [
  {
   "cell_type": "markdown",
   "metadata": {
    "colab_type": "text",
    "id": "iQjHqsmTAVLU"
   },
   "source": [
    "## Exercise 3\n",
    "In the videos you looked at how you would improve Fashion MNIST using Convolutions. For your exercise see if you can improve MNIST to 99.8% accuracy or more using only a single convolutional layer and a single MaxPooling 2D. You should stop training once the accuracy goes above this amount. It should happen in less than 20 epochs, so it's ok to hard code the number of epochs for training, but your training must end once it hits the above metric. If it doesn't, then you'll need to redesign your layers.\n",
    "\n",
    "I've started the code for you -- you need to finish it!\n",
    "\n",
    "When 99.8% accuracy has been hit, you should print out the string \"Reached 99.8% accuracy so cancelling training!\"\n"
   ]
  },
  {
   "cell_type": "code",
   "execution_count": 11,
   "metadata": {},
   "outputs": [
    {
     "name": "stdout",
     "output_type": "stream",
     "text": [
      "1.12.0\n"
     ]
    }
   ],
   "source": [
    "import tensorflow as tf\n",
    "import numpy as np\n",
    "from tensorflow import keras\n",
    "print(tf.__version__)"
   ]
  },
  {
   "cell_type": "code",
   "execution_count": 12,
   "metadata": {},
   "outputs": [],
   "source": [
    "mnist = keras.datasets.fashion_mnist\n",
    "\n",
    "(train_images, train_labels), (test_images, test_labels) = mnist.load_data()\n",
    "\n",
    "train_images = train_images.reshape(60000, 28, 28, 1) / 255.0\n",
    "test_images = test_images.reshape(10000, 28, 28, 1) / 255.0\n"
   ]
  },
  {
   "cell_type": "code",
   "execution_count": 13,
   "metadata": {
    "colab": {},
    "colab_type": "code",
    "id": "sfQRyaJWAIdg"
   },
   "outputs": [],
   "source": [
    "model = tf.keras.models.Sequential([\n",
    "    tf.keras.layers.Conv2D(64, (3, 3), activation='relu', input_shape=(28, 28, 1)),\n",
    "    tf.keras.layers.MaxPooling2D(2, 2),\n",
    "    tf.keras.layers.Flatten(),\n",
    "    tf.keras.layers.Dense(32, activation=tf.nn.relu),\n",
    "    tf.keras.layers.Dense(10, activation=tf.nn.softmax),\n",
    "])\n"
   ]
  },
  {
   "cell_type": "code",
   "execution_count": 14,
   "metadata": {},
   "outputs": [],
   "source": [
    "model.compile(optimizer = 'adam',\n",
    "              loss = 'sparse_categorical_crossentropy', \n",
    "              metrics=['accuracy'])"
   ]
  },
  {
   "cell_type": "code",
   "execution_count": null,
   "metadata": {},
   "outputs": [],
   "source": []
  },
  {
   "cell_type": "code",
   "execution_count": 15,
   "metadata": {},
   "outputs": [],
   "source": [
    "class AccuracyThresholdCallback(tf.keras.callbacks.Callback):\n",
    "    def __init__(self, accuracy_threshold=0.6):\n",
    "        self.accuracy_threshold = accuracy_threshold\n",
    "        \n",
    "    def on_epoch_end(self, epoch, logs={}):\n",
    "        if logs.get('acc') > self.accuracy_threshold:\n",
    "            print(f\"\\nReached {100 * self.accuracy_threshold:.0f}% accuracy so cancelling training!\")\n",
    "            self.model.stop_training = True\n"
   ]
  },
  {
   "cell_type": "code",
   "execution_count": 16,
   "metadata": {},
   "outputs": [
    {
     "name": "stdout",
     "output_type": "stream",
     "text": [
      "Epoch 1/20\n",
      "60000/60000 [==============================] - 44s 740us/step - loss: 0.4120 - acc: 0.8545\n",
      "Epoch 2/20\n",
      "60000/60000 [==============================] - 43s 713us/step - loss: 0.2871 - acc: 0.8978\n",
      "Epoch 3/20\n",
      "60000/60000 [==============================] - 42s 699us/step - loss: 0.2445 - acc: 0.9121\n",
      "Epoch 4/20\n",
      "60000/60000 [==============================] - 41s 685us/step - loss: 0.2172 - acc: 0.9229\n",
      "Epoch 5/20\n",
      "60000/60000 [==============================] - 42s 703us/step - loss: 0.1929 - acc: 0.9295\n",
      "Epoch 6/20\n",
      "60000/60000 [==============================] - 42s 705us/step - loss: 0.1711 - acc: 0.9375\n",
      "Epoch 7/20\n",
      "60000/60000 [==============================] - 50s 836us/step - loss: 0.1540 - acc: 0.9441\n",
      "Epoch 8/20\n",
      "60000/60000 [==============================] - 53s 878us/step - loss: 0.1387 - acc: 0.9494\n",
      "Epoch 9/20\n",
      "60000/60000 [==============================] - 52s 868us/step - loss: 0.1224 - acc: 0.9552\n",
      "Epoch 10/20\n",
      "60000/60000 [==============================] - 45s 757us/step - loss: 0.1110 - acc: 0.9589\n",
      "Epoch 11/20\n",
      "60000/60000 [==============================] - 45s 744us/step - loss: 0.0998 - acc: 0.9640\n",
      "Epoch 12/20\n",
      "60000/60000 [==============================] - 44s 733us/step - loss: 0.0893 - acc: 0.9674\n",
      "Epoch 13/20\n",
      "60000/60000 [==============================] - 44s 732us/step - loss: 0.0787 - acc: 0.9713\n",
      "Epoch 14/20\n",
      "60000/60000 [==============================] - 39s 655us/step - loss: 0.0738 - acc: 0.9731\n",
      "Epoch 15/20\n",
      "60000/60000 [==============================] - 39s 653us/step - loss: 0.0650 - acc: 0.9766\n",
      "Epoch 16/20\n",
      "60000/60000 [==============================] - 39s 655us/step - loss: 0.0594 - acc: 0.9792\n",
      "Epoch 17/20\n",
      "60000/60000 [==============================] - 39s 649us/step - loss: 0.0548 - acc: 0.9807\n",
      "Epoch 18/20\n",
      "60000/60000 [==============================] - 41s 681us/step - loss: 0.0492 - acc: 0.9822\n",
      "Epoch 19/20\n",
      "60000/60000 [==============================] - 39s 654us/step - loss: 0.0451 - acc: 0.9831\n",
      "Epoch 20/20\n",
      "60000/60000 [==============================] - 39s 651us/step - loss: 0.0390 - acc: 0.9860\n"
     ]
    },
    {
     "data": {
      "text/plain": [
       "<tensorflow.python.keras.callbacks.History at 0x10e70c7f0>"
      ]
     },
     "execution_count": 16,
     "metadata": {},
     "output_type": "execute_result"
    }
   ],
   "source": [
    "model.fit(train_images, train_labels, epochs=20, callbacks=[AccuracyThresholdCallback(0.998)])\n"
   ]
  },
  {
   "cell_type": "code",
   "execution_count": null,
   "metadata": {},
   "outputs": [],
   "source": []
  }
 ],
 "metadata": {
  "colab": {
   "collapsed_sections": [],
   "name": "Exercise 3 - Question.ipynb",
   "provenance": [],
   "version": "0.3.2"
  },
  "kernelspec": {
   "display_name": "Python 3",
   "language": "python",
   "name": "python3"
  },
  "language_info": {
   "codemirror_mode": {
    "name": "ipython",
    "version": 3
   },
   "file_extension": ".py",
   "mimetype": "text/x-python",
   "name": "python",
   "nbconvert_exporter": "python",
   "pygments_lexer": "ipython3",
   "version": "3.6.8"
  }
 },
 "nbformat": 4,
 "nbformat_minor": 1
}
