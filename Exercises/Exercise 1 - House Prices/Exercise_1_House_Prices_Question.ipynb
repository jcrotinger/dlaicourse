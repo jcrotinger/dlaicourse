{
 "cells": [
  {
   "cell_type": "markdown",
   "metadata": {
    "colab_type": "text",
    "id": "mw2VBrBcgvGa"
   },
   "source": [
    "In this exercise you'll try to build a neural network that predicts the price of a house according to a simple formula.\n",
    "\n",
    "So, imagine if house pricing was as easy as a house costs 50k + 50k per bedroom, so that a 1 bedroom house costs 100k, a 2 bedroom house costs 150k etc.\n",
    "\n",
    "How would you create a neural network that learns this relationship so that it would predict a 7 bedroom house as costing close to 400k etc.\n",
    "\n",
    "Hint: Your network might work better if you scale the house price down. You don't have to give the answer 400...it might be better to create something that predicts the number 4, and then your answer is in the 'hundreds of thousands' etc."
   ]
  },
  {
   "cell_type": "code",
   "execution_count": 2,
   "metadata": {
    "colab": {},
    "colab_type": "code",
    "id": "PUNO2E6SeURH"
   },
   "outputs": [],
   "source": [
    "import tensorflow as tf\n",
    "import numpy as np\n",
    "from tensorflow import keras"
   ]
  },
  {
   "cell_type": "code",
   "execution_count": 22,
   "metadata": {
    "colab": {},
    "colab_type": "code",
    "id": "PUNO2E6SeURH"
   },
   "outputs": [
    {
     "data": {
      "text/plain": [
       "array([[3.3289685]], dtype=float32)"
      ]
     },
     "execution_count": 22,
     "metadata": {},
     "output_type": "execute_result"
    }
   ],
   "source": [
    "# model = # Your Code Here#\n",
    "# model.compile(# Your Code Here#)\n",
    "# xs = # Your Code Here#\n",
    "# ys = # Your Code Here#\n",
    "# model.fit(# Your Code here#)\n",
    "\n",
    "model = tf.keras.Sequential([keras.layers.Dense(units=1, input_shape=[1])])\n",
    "\n",
    "model.compile(optimizer='sgd', loss='mean_squared_error')\n",
    "\n",
    "xs = np.arange(1.0, 2.0, 1.0)\n",
    "ys = np.array(0.5 + 0.5 * xs, dtype=float)\n",
    "\n",
    "model.fit(xs, ys, epochs=500, verbose=False)    \n",
    "    \n",
    "model.predict([7.0])"
   ]
  },
  {
   "cell_type": "code",
   "execution_count": 23,
   "metadata": {},
   "outputs": [],
   "source": [
    "def test_with_n_training_examples(n):\n",
    "    model = tf.keras.Sequential([keras.layers.Dense(units=1, input_shape=[1])])\n",
    "\n",
    "    model.compile(optimizer='sgd', loss='mean_squared_error')\n",
    "\n",
    "    xs = np.arange(1.0, n * 1.0, 1.0)\n",
    "    ys = np.array(0.5 + 0.5 * xs, dtype=float)\n",
    "\n",
    "    model.fit(xs, ys, epochs=1000, verbose=False)\n",
    "    \n",
    "    return model.predict([7.0])[0][0]"
   ]
  },
  {
   "cell_type": "code",
   "execution_count": 28,
   "metadata": {},
   "outputs": [
    {
     "name": "stdout",
     "output_type": "stream",
     "text": [
      " 2:  5.2886\n",
      " 3:  3.8039\n",
      " 4:  4.0070\n",
      " 5:  4.0154\n",
      " 6:  4.0003\n",
      " 7:  4.0086\n",
      " 8:  4.0039\n",
      " 9:  4.0012\n",
      "10:  4.0011\n",
      "11:  4.0000\n",
      "12:  3.9997\n",
      "13:  3.9994\n",
      "14:  3.9990\n",
      "15:  3.9983\n",
      "16:  3.9983\n",
      "17:  3.9985\n",
      "18:     nan\n",
      "19:     nan\n"
     ]
    }
   ],
   "source": [
    "for i in range(2, 20):\n",
    "    print(f'{i :2d}: {test_with_n_training_examples(i) :7.4f}')"
   ]
  },
  {
   "cell_type": "code",
   "execution_count": 4,
   "metadata": {},
   "outputs": [],
   "source": [
    "np.arange?\n"
   ]
  },
  {
   "cell_type": "code",
   "execution_count": null,
   "metadata": {},
   "outputs": [],
   "source": []
  }
 ],
 "metadata": {
  "colab": {
   "name": "Exercise 1 - House Prices - Question.ipynb",
   "provenance": [],
   "version": "0.3.2"
  },
  "kernelspec": {
   "display_name": "Python 3",
   "language": "python",
   "name": "python3"
  },
  "language_info": {
   "codemirror_mode": {
    "name": "ipython",
    "version": 3
   },
   "file_extension": ".py",
   "mimetype": "text/x-python",
   "name": "python",
   "nbconvert_exporter": "python",
   "pygments_lexer": "ipython3",
   "version": "3.6.8"
  }
 },
 "nbformat": 4,
 "nbformat_minor": 1
}
