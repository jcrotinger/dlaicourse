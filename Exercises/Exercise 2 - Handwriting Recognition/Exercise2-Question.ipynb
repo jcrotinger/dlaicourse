{
 "cells": [
  {
   "cell_type": "markdown",
   "metadata": {
    "colab_type": "text",
    "id": "tOoyQ70H00_s"
   },
   "source": [
    "## Exercise 2\n",
    "In the course you learned how to do classificaiton using Fashion MNIST, a data set containing items of clothing. There's another, similar dataset called MNIST which has items of handwriting -- the digits 0 through 9.\n",
    "\n",
    "Write an MNIST classifier that trains to 99% accuracy or above, and does it without a fixed number of epochs -- i.e. you should stop training once you reach that level of accuracy.\n",
    "\n",
    "Some notes:\n",
    "1. It should succeed in less than 10 epochs, so it is okay to change epochs to 10, but nothing larger\n",
    "2. When it reaches 99% or greater it should print out the string \"Reached 99% accuracy so cancelling training!\"\n",
    "3. If you add any additional variables, make sure you use the same names as the ones used in the class\n",
    "\n",
    "I've started the code for you below -- how would you finish it? "
   ]
  },
  {
   "cell_type": "code",
   "execution_count": 1,
   "metadata": {
    "colab": {},
    "colab_type": "code",
    "id": "9rvXQGAA0ssC"
   },
   "outputs": [
    {
     "name": "stdout",
     "output_type": "stream",
     "text": [
      "Epoch 1/10\n",
      "10000/10000 [==============================] - 3s 305us/step - loss: 0.3995 - acc: 0.8862\n",
      "Epoch 2/10\n",
      "10000/10000 [==============================] - 3s 255us/step - loss: 0.1665 - acc: 0.9493\n",
      "Epoch 3/10\n",
      "10000/10000 [==============================] - 3s 255us/step - loss: 0.0990 - acc: 0.9697\n",
      "Epoch 4/10\n",
      "10000/10000 [==============================] - 3s 265us/step - loss: 0.0615 - acc: 0.9824\n",
      "Epoch 5/10\n",
      " 9792/10000 [============================>.] - ETA: 0s - loss: 0.0367 - acc: 0.9908\n",
      "Reached 99% accuracy so cancelling training!\n",
      "10000/10000 [==============================] - 3s 266us/step - loss: 0.0368 - acc: 0.9907\n"
     ]
    },
    {
     "data": {
      "text/plain": [
       "<tensorflow.python.keras.callbacks.History at 0x10ce06a90>"
      ]
     },
     "execution_count": 1,
     "metadata": {},
     "output_type": "execute_result"
    }
   ],
   "source": [
    "import tensorflow as tf\n",
    "mnist = tf.keras.datasets.mnist\n",
    "\n",
    "(x_train, y_train), (x_test, y_test) = mnist.load_data()\n",
    "\n",
    "x_train = x_train/255.0\n",
    "x_test = x_test/255.0\n",
    "\n",
    "model = tf.keras.models.Sequential(\n",
    "    [tf.keras.layers.Flatten(),\n",
    "    tf.keras.layers.Dense(512, activation=tf.nn.relu),\n",
    "    tf.keras.layers.Dense(10, activation=tf.nn.softmax)])\n",
    "\n",
    "model.compile(optimizer='adam',\n",
    "              loss='sparse_categorical_crossentropy',\n",
    "              metrics=['accuracy'])\n",
    "\n",
    "class AccuracyThresholdCallback(tf.keras.callbacks.Callback):\n",
    "    def __init__(self, accuracy_threshold=0.6):\n",
    "        self.accuracy_threshold = accuracy_threshold\n",
    "        \n",
    "    def on_epoch_end(self, epoch, logs={}):\n",
    "        if logs.get('acc') > self.accuracy_threshold:\n",
    "            print(f\"\\nReached {100 * self.accuracy_threshold:.0f}% accuracy so cancelling training!\")\n",
    "            self.model.stop_training = True\n",
    "\n",
    "model.fit(x_test, y_test, epochs=10, callbacks=[AccuracyThresholdCallback(0.99)])\n"
   ]
  },
  {
   "cell_type": "code",
   "execution_count": null,
   "metadata": {},
   "outputs": [],
   "source": []
  }
 ],
 "metadata": {
  "colab": {
   "collapsed_sections": [],
   "name": "Exercise2-Question.ipynb",
   "provenance": [],
   "version": "0.3.2"
  },
  "kernelspec": {
   "display_name": "Python 3",
   "language": "python",
   "name": "python3"
  },
  "language_info": {
   "codemirror_mode": {
    "name": "ipython",
    "version": 3
   },
   "file_extension": ".py",
   "mimetype": "text/x-python",
   "name": "python",
   "nbconvert_exporter": "python",
   "pygments_lexer": "ipython3",
   "version": "3.6.8"
  }
 },
 "nbformat": 4,
 "nbformat_minor": 1
}
